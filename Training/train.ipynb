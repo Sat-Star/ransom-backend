{
 "cells": [
  {
   "cell_type": "code",
   "execution_count": 5,
   "id": "8cc9d8de-e2f9-4eab-8af0-e8853bff5538",
   "metadata": {},
   "outputs": [],
   "source": [
    "import pandas as pd\n",
    "from sklearn.model_selection import train_test_split\n",
    "from sklearn.ensemble import RandomForestClassifier\n",
    "from sklearn.preprocessing import LabelEncoder, StandardScaler\n",
    "from sklearn.metrics import classification_report\n",
    "import pickle"
   ]
  },
  {
   "cell_type": "code",
   "execution_count": 6,
   "id": "e84e41ee-e1ba-47d4-837b-5e64ce75fdac",
   "metadata": {},
   "outputs": [],
   "source": [
    "# Function to load and preprocess individual CSV files\n",
    "def load_and_preprocess_csvs(file_access_path, network_traffic_path, system_performance_path, user_behavior_path):\n",
    "    # Load CSVs\n",
    "    file_access = pd.read_csv(file_access_path)\n",
    "    network_traffic = pd.read_csv(network_traffic_path)\n",
    "    system_performance = pd.read_csv(system_performance_path)\n",
    "    user_behavior = pd.read_csv(user_behavior_path)\n",
    "    \n",
    "    # Check for 'Timestamp' column and merge datasets\n",
    "    for df, name in zip([file_access, network_traffic, system_performance, user_behavior], \n",
    "                        ['file_access', 'network_traffic', 'system_performance', 'user_behavior']):\n",
    "        if 'Timestamp' not in df.columns:\n",
    "            raise KeyError(f\"'Timestamp' column missing in {name}. Please check the CSV file.\")\n",
    "    \n",
    "    # Merge datasets on 'Timestamp' column\n",
    "    df = pd.merge(file_access, network_traffic, on='Timestamp', how='outer', suffixes=('_file', '_network'))\n",
    "    df = pd.merge(df, system_performance, on='Timestamp', how='outer', suffixes=('_network', '_system'))\n",
    "    df = pd.merge(df, user_behavior, on='Timestamp', how='outer', suffixes=('_system', '_user'))\n",
    "\n",
    "    # Handle multiple 'Label' columns\n",
    "    df['Label'] = df.get('Label_file', df.get('Label_network', 0))  # Default to 0 if no 'Label' found\n",
    "    df.drop(columns=[col for col in df.columns if 'Label_' in col], inplace=True)\n",
    "    \n",
    "    # Handle missing values by filling with 0 or an appropriate placeholder\n",
    "    df.fillna(0, inplace=True)\n",
    "\n",
    "    # Standardize data types before encoding\n",
    "    for col in ['File_Operation', 'User']:\n",
    "        if col in df.columns:\n",
    "            df[col] = df[col].astype(str)\n",
    "    \n",
    "    # Encode categorical variables\n",
    "    label_encoder = LabelEncoder()\n",
    "    if 'File_Operation' in df.columns:\n",
    "        df['File_Operation'] = label_encoder.fit_transform(df['File_Operation'])\n",
    "    if 'User' in df.columns:\n",
    "        df['User'] = label_encoder.fit_transform(df['User'])\n",
    "    \n",
    "    return df, label_encoder"
   ]
  },
  {
   "cell_type": "code",
   "execution_count": 7,
   "id": "58786cb0-07f3-429e-a0c7-f2450b62bac2",
   "metadata": {},
   "outputs": [],
   "source": [
    "# Function to train a model and save it to disk\n",
    "def train_and_save_model(df, label_encoder, model_path, scaler_path):\n",
    "    # Define feature columns, ensuring they exist in df\n",
    "    feature_columns = [col for col in [\n",
    "        'File_Operation', 'File_Size_MB', 'Network_Bytes', 'CPU_Usage', 'Disk_IO', \n",
    "        'Memory_Usage', 'Login_Success', 'Privilege_Escalation'] if col in df.columns]\n",
    "    \n",
    "    # Separate features (X) and labels (y)\n",
    "    X = df[feature_columns]\n",
    "    y = df['Label']  # Assuming 'Label' is the column that marks ransomware (1) or not (0)\n",
    "    \n",
    "    # Scale the features\n",
    "    scaler = StandardScaler()\n",
    "    X_scaled = scaler.fit_transform(X)\n",
    "    \n",
    "    # Split into training and testing sets\n",
    "    X_train, X_test, y_train, y_test = train_test_split(X_scaled, y, test_size=0.3, random_state=42)\n",
    "    \n",
    "    # Train the Random Forest model\n",
    "    model = RandomForestClassifier(n_estimators=100, random_state=42)\n",
    "    model.fit(X_train, y_train)\n",
    "    \n",
    "    # Make predictions on the test set\n",
    "    y_pred = model.predict(X_test)\n",
    "    \n",
    "    # Evaluate the model\n",
    "    print(\"Model Performance on Test Data:\")\n",
    "    print(classification_report(y_test, y_pred))\n",
    "    \n",
    "    # Save the trained model and scaler to files\n",
    "    with open(model_path, 'wb') as f:\n",
    "        pickle.dump(model, f)\n",
    "    \n",
    "    with open(scaler_path, 'wb') as f:\n",
    "        pickle.dump(scaler, f)\n",
    "\n",
    "    # Save label encoder (for categorical features) if used\n",
    "    with open('label_encoder.pkl', 'wb') as f:\n",
    "        pickle.dump(label_encoder, f)"
   ]
  },
  {
   "cell_type": "code",
   "execution_count": 8,
   "id": "18a34def-ee20-4a86-b910-72547650f9b5",
   "metadata": {},
   "outputs": [
    {
     "name": "stdout",
     "output_type": "stream",
     "text": [
      "Model Performance on Test Data:\n",
      "              precision    recall  f1-score   support\n",
      "\n",
      "         0.0       0.94      0.93      0.93       818\n",
      "         1.0       0.74      0.76      0.75       221\n",
      "\n",
      "    accuracy                           0.89      1039\n",
      "   macro avg       0.84      0.85      0.84      1039\n",
      "weighted avg       0.90      0.89      0.89      1039\n",
      "\n"
     ]
    }
   ],
   "source": [
    "# Main execution (train and save model)\n",
    "if __name__ == \"__main__\":\n",
    "    # File paths for training\n",
    "    file_access_path = 'file_access_3.0.csv'\n",
    "    network_traffic_path = 'network_traffic_3.0.csv'\n",
    "    system_performance_path = 'system_performance_3.0.csv'\n",
    "    user_behavior_path = 'user_behavior_3.0.csv'\n",
    "    \n",
    "    # Load and preprocess the data\n",
    "    combined_df, label_encoder = load_and_preprocess_csvs(file_access_path, network_traffic_path, system_performance_path, user_behavior_path)\n",
    "    \n",
    "    # Train and save the model\n",
    "    train_and_save_model(combined_df, label_encoder, 'ransomware_model.pkl', 'scaler.pkl')"
   ]
  },
  {
   "cell_type": "code",
   "execution_count": null,
   "id": "b768e4e6-c5cc-42e1-bf90-7021e24d1afb",
   "metadata": {},
   "outputs": [],
   "source": []
  }
 ],
 "metadata": {
  "kernelspec": {
   "display_name": "Python 3 (ipykernel)",
   "language": "python",
   "name": "python3"
  },
  "language_info": {
   "codemirror_mode": {
    "name": "ipython",
    "version": 3
   },
   "file_extension": ".py",
   "mimetype": "text/x-python",
   "name": "python",
   "nbconvert_exporter": "python",
   "pygments_lexer": "ipython3",
   "version": "3.11.7"
  }
 },
 "nbformat": 4,
 "nbformat_minor": 5
}
